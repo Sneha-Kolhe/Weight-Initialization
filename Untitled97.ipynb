{
 "cells": [
  {
   "cell_type": "markdown",
   "id": "ef7590e6-29d3-4c1a-b69e-f2e1e83a4fca",
   "metadata": {},
   "source": [
    "## Explain the importance of weight initialization in artificial neural networks. WhE is it necessarE to initialize\n",
    "the weights carefullED"
   ]
  },
  {
   "cell_type": "code",
   "execution_count": null,
   "id": "e97005f3-d637-4f65-84bb-162d4746886e",
   "metadata": {},
   "outputs": [],
   "source": []
  }
 ],
 "metadata": {
  "kernelspec": {
   "display_name": "Python 3 (ipykernel)",
   "language": "python",
   "name": "python3"
  },
  "language_info": {
   "codemirror_mode": {
    "name": "ipython",
    "version": 3
   },
   "file_extension": ".py",
   "mimetype": "text/x-python",
   "name": "python",
   "nbconvert_exporter": "python",
   "pygments_lexer": "ipython3",
   "version": "3.10.8"
  }
 },
 "nbformat": 4,
 "nbformat_minor": 5
}
